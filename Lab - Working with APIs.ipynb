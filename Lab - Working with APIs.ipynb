{
 "cells": [
  {
   "cell_type": "code",
   "execution_count": 1,
   "metadata": {},
   "outputs": [
    {
     "name": "stdout",
     "output_type": "stream",
     "text": [
      "········\n"
     ]
    }
   ],
   "source": [
    "# Import requests library\n",
    "import requests\n",
    "import getpass\n",
    "rapidAPIkey = getpass.getpass()"
   ]
  },
  {
   "cell_type": "code",
   "execution_count": null,
   "metadata": {},
   "outputs": [],
   "source": [
    "#First work with searching by airport"
   ]
  },
  {
   "cell_type": "code",
   "execution_count": 57,
   "metadata": {},
   "outputs": [],
   "source": [
    "def flight_prices(departure, arrival, date, return_date):\n",
    "    departure_code = departure\n",
    "    arrival_code = arrival\n",
    "    url = f\"https://skyscanner-skyscanner-flight-search-v1.p.rapidapi.com/apiservices/browsequotes/v1.0/US/USD/en-US/{departure_code}/{arrival_code}/{date}\"\n",
    "    params = {\"inboundpartialdate\":{return_date}}\n",
    "    headers = {\n",
    "    'x-rapidapi-host': \"skyscanner-skyscanner-flight-search-v1.p.rapidapi.com\",\n",
    "    'x-rapidapi-key': rapidAPIkey}\n",
    "    response = requests.get(url, headers=headers, params=params)\n",
    "    return response.json()"
   ]
  },
  {
   "cell_type": "code",
   "execution_count": 58,
   "metadata": {},
   "outputs": [
    {
     "data": {
      "text/plain": [
       "{'Quotes': [{'QuoteId': 1,\n",
       "   'MinPrice': 294,\n",
       "   'Direct': False,\n",
       "   'OutboundLeg': {'CarrierIds': [838],\n",
       "    'OriginId': 42414,\n",
       "    'DestinationId': 54661,\n",
       "    'DepartureDate': '2021-09-28T00:00:00'},\n",
       "   'QuoteDateTime': '2021-09-12T16:02:00'}],\n",
       " 'Carriers': [{'CarrierId': 838, 'Name': 'Air France'}],\n",
       " 'Places': [{'Name': 'Barcelona',\n",
       "   'Type': 'Station',\n",
       "   'PlaceId': 42414,\n",
       "   'IataCode': 'BCN',\n",
       "   'SkyscannerCode': 'BCN',\n",
       "   'CityName': 'Barcelona',\n",
       "   'CityId': 'BARC',\n",
       "   'CountryName': 'Spain'},\n",
       "  {'Name': 'Sao Paulo Guarulhos',\n",
       "   'Type': 'Station',\n",
       "   'PlaceId': 54661,\n",
       "   'IataCode': 'GRU',\n",
       "   'SkyscannerCode': 'GRU',\n",
       "   'CityName': 'Sao Paulo',\n",
       "   'CityId': 'SAOA',\n",
       "   'CountryName': 'Brazil'}],\n",
       " 'Currencies': [{'Code': 'USD',\n",
       "   'Symbol': '$',\n",
       "   'ThousandsSeparator': ',',\n",
       "   'DecimalSeparator': '.',\n",
       "   'SymbolOnLeft': True,\n",
       "   'SpaceBetweenAmountAndSymbol': False,\n",
       "   'RoundingCoefficient': 0,\n",
       "   'DecimalDigits': 2}]}"
      ]
     },
     "execution_count": 58,
     "metadata": {},
     "output_type": "execute_result"
    }
   ],
   "source": [
    "response = flight_prices(\"BCN-sky\", \"GRU-sky\", \"2021-09-28\", \"2021-12-02\")\n",
    "response"
   ]
  },
  {
   "cell_type": "code",
   "execution_count": 60,
   "metadata": {},
   "outputs": [
    {
     "data": {
      "text/html": [
       "<div>\n",
       "<style scoped>\n",
       "    .dataframe tbody tr th:only-of-type {\n",
       "        vertical-align: middle;\n",
       "    }\n",
       "\n",
       "    .dataframe tbody tr th {\n",
       "        vertical-align: top;\n",
       "    }\n",
       "\n",
       "    .dataframe thead th {\n",
       "        text-align: right;\n",
       "    }\n",
       "</style>\n",
       "<table border=\"1\" class=\"dataframe\">\n",
       "  <thead>\n",
       "    <tr style=\"text-align: right;\">\n",
       "      <th></th>\n",
       "      <th>Quotes</th>\n",
       "      <th>Carriers</th>\n",
       "      <th>Places</th>\n",
       "      <th>Currencies</th>\n",
       "    </tr>\n",
       "  </thead>\n",
       "  <tbody>\n",
       "    <tr>\n",
       "      <th>0</th>\n",
       "      <td>[{'QuoteId': 1, 'MinPrice': 294, 'Direct': Fal...</td>\n",
       "      <td>[{'CarrierId': 838, 'Name': 'Air France'}]</td>\n",
       "      <td>[{'Name': 'Barcelona', 'Type': 'Station', 'Pla...</td>\n",
       "      <td>[{'Code': 'USD', 'Symbol': '$', 'ThousandsSepa...</td>\n",
       "    </tr>\n",
       "  </tbody>\n",
       "</table>\n",
       "</div>"
      ],
      "text/plain": [
       "                                              Quotes  \\\n",
       "0  [{'QuoteId': 1, 'MinPrice': 294, 'Direct': Fal...   \n",
       "\n",
       "                                     Carriers  \\\n",
       "0  [{'CarrierId': 838, 'Name': 'Air France'}]   \n",
       "\n",
       "                                              Places  \\\n",
       "0  [{'Name': 'Barcelona', 'Type': 'Station', 'Pla...   \n",
       "\n",
       "                                          Currencies  \n",
       "0  [{'Code': 'USD', 'Symbol': '$', 'ThousandsSepa...  "
      ]
     },
     "execution_count": 60,
     "metadata": {},
     "output_type": "execute_result"
    }
   ],
   "source": [
    "# Import libraries\n",
    "import pandas as pd\n",
    "import json\n",
    "\n",
    "# Normalize the response\n",
    "\n",
    "pd.json_normalize(response)\n",
    "# If this doesn't work, try to import json_normalize directly from pandas.io.json"
   ]
  },
  {
   "cell_type": "code",
   "execution_count": 61,
   "metadata": {},
   "outputs": [],
   "source": [
    "quotes = pd.DataFrame(pd.json_normalize(response)[\"Quotes\"][0])\n",
    "carriers = pd.DataFrame(pd.json_normalize(response)[\"Carriers\"][0])\n",
    "places = pd.DataFrame(pd.json_normalize(response)[\"Places\"][0])\n",
    "currencies = pd.DataFrame(pd.json_normalize(response)[\"Currencies\"][0])"
   ]
  },
  {
   "cell_type": "code",
   "execution_count": 78,
   "metadata": {},
   "outputs": [],
   "source": [
    "flights = pd.DataFrame(pd.DataFrame(pd.json_normalize(response)[\"Quotes\"][0])[\"MinPrice\"])"
   ]
  },
  {
   "cell_type": "code",
   "execution_count": 79,
   "metadata": {},
   "outputs": [
    {
     "data": {
      "text/html": [
       "<div>\n",
       "<style scoped>\n",
       "    .dataframe tbody tr th:only-of-type {\n",
       "        vertical-align: middle;\n",
       "    }\n",
       "\n",
       "    .dataframe tbody tr th {\n",
       "        vertical-align: top;\n",
       "    }\n",
       "\n",
       "    .dataframe thead th {\n",
       "        text-align: right;\n",
       "    }\n",
       "</style>\n",
       "<table border=\"1\" class=\"dataframe\">\n",
       "  <thead>\n",
       "    <tr style=\"text-align: right;\">\n",
       "      <th></th>\n",
       "      <th>MinPrice</th>\n",
       "    </tr>\n",
       "  </thead>\n",
       "  <tbody>\n",
       "    <tr>\n",
       "      <th>0</th>\n",
       "      <td>294</td>\n",
       "    </tr>\n",
       "  </tbody>\n",
       "</table>\n",
       "</div>"
      ],
      "text/plain": [
       "   MinPrice\n",
       "0       294"
      ]
     },
     "execution_count": 79,
     "metadata": {},
     "output_type": "execute_result"
    }
   ],
   "source": [
    "flights"
   ]
  },
  {
   "cell_type": "code",
   "execution_count": 81,
   "metadata": {},
   "outputs": [
    {
     "data": {
      "text/html": [
       "<div>\n",
       "<style scoped>\n",
       "    .dataframe tbody tr th:only-of-type {\n",
       "        vertical-align: middle;\n",
       "    }\n",
       "\n",
       "    .dataframe tbody tr th {\n",
       "        vertical-align: top;\n",
       "    }\n",
       "\n",
       "    .dataframe thead th {\n",
       "        text-align: right;\n",
       "    }\n",
       "</style>\n",
       "<table border=\"1\" class=\"dataframe\">\n",
       "  <thead>\n",
       "    <tr style=\"text-align: right;\">\n",
       "      <th></th>\n",
       "      <th>Name</th>\n",
       "      <th>Name</th>\n",
       "      <th>CityName</th>\n",
       "      <th>CountryName</th>\n",
       "      <th>MinPrice</th>\n",
       "    </tr>\n",
       "  </thead>\n",
       "  <tbody>\n",
       "    <tr>\n",
       "      <th>0</th>\n",
       "      <td>Air France</td>\n",
       "      <td>Barcelona</td>\n",
       "      <td>Barcelona</td>\n",
       "      <td>Spain</td>\n",
       "      <td>294.0</td>\n",
       "    </tr>\n",
       "    <tr>\n",
       "      <th>1</th>\n",
       "      <td>NaN</td>\n",
       "      <td>Sao Paulo Guarulhos</td>\n",
       "      <td>Sao Paulo</td>\n",
       "      <td>Brazil</td>\n",
       "      <td>NaN</td>\n",
       "    </tr>\n",
       "  </tbody>\n",
       "</table>\n",
       "</div>"
      ],
      "text/plain": [
       "         Name                 Name   CityName CountryName  MinPrice\n",
       "0  Air France            Barcelona  Barcelona       Spain     294.0\n",
       "1         NaN  Sao Paulo Guarulhos  Sao Paulo      Brazil       NaN"
      ]
     },
     "execution_count": 81,
     "metadata": {},
     "output_type": "execute_result"
    }
   ],
   "source": [
    "flights2 = pd.concat([carriers, places, currencies, flights], axis=1)\n",
    "flights2 = flights2[[\"Name\", \"CityName\", \"CountryName\",\"MinPrice\"]]\n",
    "flights2"
   ]
  },
  {
   "cell_type": "code",
   "execution_count": null,
   "metadata": {},
   "outputs": [],
   "source": [
    "#working with city, but discover is not possible in the api search for a list of places id.\n",
    "#let the code here to see my idea"
   ]
  },
  {
   "cell_type": "code",
   "execution_count": 51,
   "metadata": {},
   "outputs": [],
   "source": [
    "def city_code(city_name):\n",
    "    url = \"https://skyscanner-skyscanner-flight-search-v1.p.rapidapi.com/apiservices/autosuggest/v1.0/US/USD/en-US/\"\n",
    "\n",
    "    params = {\"query\": city_name}\n",
    "\n",
    "    headers = {'x-rapidapi-host': \"skyscanner-skyscanner-flight-search-v1.p.rapidapi.com\",\n",
    "                      'x-rapidapi-key': rapidAPIkey}\n",
    "\n",
    "    response = requests.get(url, headers = headers, params = params).json()\n",
    "    \n",
    "    count = len(response[\"Places\"])\n",
    "    codes = []\n",
    "    for i in range(count):\n",
    "        codes.append(response[\"Places\"][i][\"PlaceId\"])\n",
    "    \n",
    "    return codes\n",
    "\n",
    "def flight_prices(departure, arrival, date, return_date):\n",
    "    departure_code = city_code(departure)\n",
    "    arrival_code = city_code(arrival)\n",
    "    url = f\"https://skyscanner-skyscanner-flight-search-v1.p.rapidapi.com/apiservices/browsequotes/v1.0/US/USD/en-US/{departure_code}/{arrival_code}/{date}\"\n",
    "    params = {\"inboundpartialdate\":{return_date}}\n",
    "    headers = {\n",
    "    'x-rapidapi-host': \"skyscanner-skyscanner-flight-search-v1.p.rapidapi.com\",\n",
    "    'x-rapidapi-key': rapidAPIkey}\n",
    "    response = requests.get(url, headers=headers, params=params)\n",
    "    return response.json()"
   ]
  },
  {
   "cell_type": "code",
   "execution_count": 52,
   "metadata": {},
   "outputs": [
    {
     "data": {
      "text/plain": [
       "{'errors': ['path param destination  is an invalid destination',\n",
       "  'path param origin  is an invalid origin']}"
      ]
     },
     "execution_count": 52,
     "metadata": {},
     "output_type": "execute_result"
    }
   ],
   "source": [
    "response = flight_prices(\"Barcelona\", \"São Paulo\", \"2021-09-28\", \"2021-12-02\")\n",
    "response"
   ]
  },
  {
   "cell_type": "code",
   "execution_count": null,
   "metadata": {},
   "outputs": [],
   "source": []
  },
  {
   "cell_type": "code",
   "execution_count": null,
   "metadata": {},
   "outputs": [],
   "source": []
  },
  {
   "cell_type": "code",
   "execution_count": null,
   "metadata": {},
   "outputs": [],
   "source": []
  },
  {
   "cell_type": "code",
   "execution_count": null,
   "metadata": {},
   "outputs": [],
   "source": []
  }
 ],
 "metadata": {
  "kernelspec": {
   "display_name": "Python 3",
   "language": "python",
   "name": "python3"
  },
  "language_info": {
   "codemirror_mode": {
    "name": "ipython",
    "version": 3
   },
   "file_extension": ".py",
   "mimetype": "text/x-python",
   "name": "python",
   "nbconvert_exporter": "python",
   "pygments_lexer": "ipython3",
   "version": "3.9.6"
  }
 },
 "nbformat": 4,
 "nbformat_minor": 4
}
