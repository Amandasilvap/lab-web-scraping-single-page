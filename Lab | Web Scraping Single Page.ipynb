{
 "cells": [
  {
   "cell_type": "code",
   "execution_count": 60,
   "id": "2357fad3",
   "metadata": {},
   "outputs": [],
   "source": [
    "import requests\n",
    "from bs4 import BeautifulSoup\n",
    "import pandas as pd"
   ]
  },
  {
   "cell_type": "markdown",
   "id": "728c989b",
   "metadata": {},
   "source": [
    "# TOP SONGS BILLBOARD"
   ]
  },
  {
   "cell_type": "code",
   "execution_count": 61,
   "id": "dfeada0a",
   "metadata": {},
   "outputs": [],
   "source": [
    "url = \"https://www.billboard.com/charts/hot-100\"\n",
    "response = requests.get(url)\n",
    "response.status_code\n",
    "soup = BeautifulSoup(response.content, \"html.parser\")"
   ]
  },
  {
   "cell_type": "code",
   "execution_count": 62,
   "id": "786b8808",
   "metadata": {},
   "outputs": [
    {
     "data": {
      "text/plain": [
       "'Way 2 Sexy'"
      ]
     },
     "execution_count": 62,
     "metadata": {},
     "output_type": "execute_result"
    }
   ],
   "source": [
    "soup.select(\"span.chart-element__information span.chart-element__information__song\")[0].get_text()"
   ]
  },
  {
   "cell_type": "code",
   "execution_count": 63,
   "id": "e475d2e2",
   "metadata": {},
   "outputs": [
    {
     "data": {
      "text/plain": [
       "'Drake Featuring Future & Young Thug'"
      ]
     },
     "execution_count": 63,
     "metadata": {},
     "output_type": "execute_result"
    }
   ],
   "source": [
    "soup.select(\"span.chart-element__information span.chart-element__information__artist\")[0].get_text()"
   ]
  },
  {
   "cell_type": "code",
   "execution_count": 64,
   "id": "9f893b9f",
   "metadata": {},
   "outputs": [
    {
     "name": "stdout",
     "output_type": "stream",
     "text": [
      "100\n",
      "100\n"
     ]
    }
   ],
   "source": [
    "song = []\n",
    "artist = []\n",
    "\n",
    "num_iter = len(soup.select(\"span.chart-element__information\"))\n",
    "\n",
    "for i in range(num_iter):\n",
    "    song.append(soup.select(\"span.chart-element__information span.chart-element__information__song\")[i].get_text())\n",
    "    artist.append(soup.select(\"span.chart-element__information span.chart-element__information__artist\")[i].get_text())\n",
    "    \n",
    "print(len(song))\n",
    "print(len(artist))\n"
   ]
  },
  {
   "cell_type": "code",
   "execution_count": 65,
   "id": "d8587e06",
   "metadata": {},
   "outputs": [
    {
     "data": {
      "text/html": [
       "<div>\n",
       "<style scoped>\n",
       "    .dataframe tbody tr th:only-of-type {\n",
       "        vertical-align: middle;\n",
       "    }\n",
       "\n",
       "    .dataframe tbody tr th {\n",
       "        vertical-align: top;\n",
       "    }\n",
       "\n",
       "    .dataframe thead th {\n",
       "        text-align: right;\n",
       "    }\n",
       "</style>\n",
       "<table border=\"1\" class=\"dataframe\">\n",
       "  <thead>\n",
       "    <tr style=\"text-align: right;\">\n",
       "      <th></th>\n",
       "      <th>song</th>\n",
       "      <th>artist</th>\n",
       "    </tr>\n",
       "  </thead>\n",
       "  <tbody>\n",
       "    <tr>\n",
       "      <th>0</th>\n",
       "      <td>Way 2 Sexy</td>\n",
       "      <td>Drake Featuring Future &amp; Young Thug</td>\n",
       "    </tr>\n",
       "    <tr>\n",
       "      <th>1</th>\n",
       "      <td>Girls Want Girls</td>\n",
       "      <td>Drake Featuring Lil Baby</td>\n",
       "    </tr>\n",
       "    <tr>\n",
       "      <th>2</th>\n",
       "      <td>Fair Trade</td>\n",
       "      <td>Drake Featuring Travis Scott</td>\n",
       "    </tr>\n",
       "    <tr>\n",
       "      <th>3</th>\n",
       "      <td>Champagne Poetry</td>\n",
       "      <td>Drake</td>\n",
       "    </tr>\n",
       "    <tr>\n",
       "      <th>4</th>\n",
       "      <td>Knife Talk</td>\n",
       "      <td>Drake Featuring 21 Savage &amp; Project Pat</td>\n",
       "    </tr>\n",
       "  </tbody>\n",
       "</table>\n",
       "</div>"
      ],
      "text/plain": [
       "               song                                   artist\n",
       "0        Way 2 Sexy      Drake Featuring Future & Young Thug\n",
       "1  Girls Want Girls                 Drake Featuring Lil Baby\n",
       "2        Fair Trade             Drake Featuring Travis Scott\n",
       "3  Champagne Poetry                                    Drake\n",
       "4        Knife Talk  Drake Featuring 21 Savage & Project Pat"
      ]
     },
     "execution_count": 65,
     "metadata": {},
     "output_type": "execute_result"
    }
   ],
   "source": [
    "hot_songs_billboard = pd.DataFrame({\"song\":song, \"artist\":artist})\n",
    "hot_songs_billboard.head()"
   ]
  },
  {
   "cell_type": "markdown",
   "id": "9566bd37",
   "metadata": {},
   "source": [
    "# TOP SONGS ROLLING STONES"
   ]
  },
  {
   "cell_type": "code",
   "execution_count": null,
   "id": "6b68d067",
   "metadata": {},
   "outputs": [],
   "source": [
    "#try to pick up the song at rolling stones, but has buttom to load more, so just come 15 results."
   ]
  },
  {
   "cell_type": "code",
   "execution_count": 66,
   "id": "e8f3ed86",
   "metadata": {},
   "outputs": [],
   "source": [
    "url_rs= \"https://www.rollingstone.com/charts/songs/\"\n",
    "response = requests.get(url_rs)\n",
    "response.status_code\n",
    "top_rs = BeautifulSoup(response.content, \"html.parser\")"
   ]
  },
  {
   "cell_type": "code",
   "execution_count": 68,
   "id": "8449bc41",
   "metadata": {},
   "outputs": [],
   "source": [
    "#top_rs.select(\"div.c-chart__table--details\")"
   ]
  },
  {
   "cell_type": "code",
   "execution_count": 69,
   "id": "d0c785ac",
   "metadata": {},
   "outputs": [
    {
     "data": {
      "text/plain": [
       "'Drake feat. Future, Young Thug'"
      ]
     },
     "execution_count": 69,
     "metadata": {},
     "output_type": "execute_result"
    }
   ],
   "source": [
    "top_rs.select(\"div.c-chart__table--details div.c-chart__table--title\")[0].get_text()\n",
    "top_rs.select(\"div.c-chart__table--details div.c-chart__table--caption\")[0].get_text()"
   ]
  },
  {
   "cell_type": "code",
   "execution_count": 70,
   "id": "2debfe1d",
   "metadata": {},
   "outputs": [
    {
     "name": "stdout",
     "output_type": "stream",
     "text": [
      "15\n",
      "15\n"
     ]
    }
   ],
   "source": [
    "song = []\n",
    "artist = []\n",
    "\n",
    "num_iter = len(top_rs.select(\"div.c-chart__table--details\"))\n",
    "\n",
    "for i in range(num_iter):\n",
    "    song.append(top_rs.select(\"div.c-chart__table--details div.c-chart__table--title\")[i].get_text())\n",
    "    artist.append(top_rs.select(\"div.c-chart__table--details div.c-chart__table--caption\")[i].get_text())\n",
    "    \n",
    "print(len(song))\n",
    "print(len(artist))\n"
   ]
  },
  {
   "cell_type": "code",
   "execution_count": 71,
   "id": "80373c34",
   "metadata": {},
   "outputs": [
    {
     "data": {
      "text/html": [
       "<div>\n",
       "<style scoped>\n",
       "    .dataframe tbody tr th:only-of-type {\n",
       "        vertical-align: middle;\n",
       "    }\n",
       "\n",
       "    .dataframe tbody tr th {\n",
       "        vertical-align: top;\n",
       "    }\n",
       "\n",
       "    .dataframe thead th {\n",
       "        text-align: right;\n",
       "    }\n",
       "</style>\n",
       "<table border=\"1\" class=\"dataframe\">\n",
       "  <thead>\n",
       "    <tr style=\"text-align: right;\">\n",
       "      <th></th>\n",
       "      <th>song</th>\n",
       "      <th>artist</th>\n",
       "    </tr>\n",
       "  </thead>\n",
       "  <tbody>\n",
       "    <tr>\n",
       "      <th>0</th>\n",
       "      <td>Way 2 Sexy</td>\n",
       "      <td>Drake feat. Future, Young Thug</td>\n",
       "    </tr>\n",
       "    <tr>\n",
       "      <th>1</th>\n",
       "      <td>Girls Want Girls</td>\n",
       "      <td>Drake feat. Lil Baby</td>\n",
       "    </tr>\n",
       "    <tr>\n",
       "      <th>2</th>\n",
       "      <td>Fair Trade</td>\n",
       "      <td>Drake feat. Travis Scott</td>\n",
       "    </tr>\n",
       "    <tr>\n",
       "      <th>3</th>\n",
       "      <td>Champagne Poetry</td>\n",
       "      <td>Drake</td>\n",
       "    </tr>\n",
       "    <tr>\n",
       "      <th>4</th>\n",
       "      <td>Knife Talk</td>\n",
       "      <td>Drake feat. 21 Savage, Project Pat</td>\n",
       "    </tr>\n",
       "    <tr>\n",
       "      <th>5</th>\n",
       "      <td>In The Bible</td>\n",
       "      <td>Drake feat. Lil Durk, Giveon</td>\n",
       "    </tr>\n",
       "    <tr>\n",
       "      <th>6</th>\n",
       "      <td>TSU</td>\n",
       "      <td>Drake</td>\n",
       "    </tr>\n",
       "    <tr>\n",
       "      <th>7</th>\n",
       "      <td>Papi's Home</td>\n",
       "      <td>Drake</td>\n",
       "    </tr>\n",
       "    <tr>\n",
       "      <th>8</th>\n",
       "      <td>No Friends In The Industry</td>\n",
       "      <td>Drake</td>\n",
       "    </tr>\n",
       "    <tr>\n",
       "      <th>9</th>\n",
       "      <td>Love All</td>\n",
       "      <td>Drake feat. Jay-Z</td>\n",
       "    </tr>\n",
       "  </tbody>\n",
       "</table>\n",
       "</div>"
      ],
      "text/plain": [
       "                         song                              artist\n",
       "0                  Way 2 Sexy      Drake feat. Future, Young Thug\n",
       "1            Girls Want Girls                Drake feat. Lil Baby\n",
       "2                  Fair Trade            Drake feat. Travis Scott\n",
       "3            Champagne Poetry                               Drake\n",
       "4                  Knife Talk  Drake feat. 21 Savage, Project Pat\n",
       "5                In The Bible        Drake feat. Lil Durk, Giveon\n",
       "6                         TSU                               Drake\n",
       "7                 Papi's Home                               Drake\n",
       "8  No Friends In The Industry                               Drake\n",
       "9                    Love All                   Drake feat. Jay-Z"
      ]
     },
     "execution_count": 71,
     "metadata": {},
     "output_type": "execute_result"
    }
   ],
   "source": [
    "hot_songs_rolling_stones = pd.DataFrame({\"song\":song, \"artist\":artist})\n",
    "hot_songs_rolling_stones.head(10)"
   ]
  },
  {
   "cell_type": "markdown",
   "id": "f8d2cd56",
   "metadata": {},
   "source": [
    "# TOP SONGS Brazil"
   ]
  },
  {
   "cell_type": "code",
   "execution_count": 72,
   "id": "5fbbe193",
   "metadata": {},
   "outputs": [],
   "source": [
    "url_br= \"https://www.top-charts.com/songs/all-genres/brazil/total\"\n",
    "response = requests.get(url_br)\n",
    "response.status_code\n",
    "top_br = BeautifulSoup(response.content, \"html.parser\")"
   ]
  },
  {
   "cell_type": "code",
   "execution_count": 73,
   "id": "68616c4d",
   "metadata": {},
   "outputs": [
    {
     "data": {
      "text/plain": [
       "'Batom de Cereja (Ao Vivo)'"
      ]
     },
     "execution_count": 73,
     "metadata": {},
     "output_type": "execute_result"
    }
   ],
   "source": [
    "#s1 > div.col-10.d-flex.align-items-center.pl-0 > div.col-8\n",
    "top_br.select(\"#title > div > span > a > div\")[0].get_text()"
   ]
  },
  {
   "cell_type": "code",
   "execution_count": 74,
   "id": "d44c6b70",
   "metadata": {},
   "outputs": [
    {
     "data": {
      "text/plain": [
       "'Israel & Rodolffo'"
      ]
     },
     "execution_count": 74,
     "metadata": {},
     "output_type": "execute_result"
    }
   ],
   "source": [
    "top_br.select(\"#Artist > div > a\")[0].get_text()"
   ]
  },
  {
   "cell_type": "code",
   "execution_count": 97,
   "id": "64045673",
   "metadata": {},
   "outputs": [],
   "source": [
    "artists = top_br.select(\"div#Artist\")\n",
    "artist = []\n",
    "for item in artists:\n",
    "    names = map(lambda item: item.get_text(), item.select(\"div > a\"))\n",
    "    name = \", \".join(names)\n",
    "    if name != \"\":\n",
    "        artist.append(name)"
   ]
  },
  {
   "cell_type": "code",
   "execution_count": 90,
   "id": "40e5aff8",
   "metadata": {},
   "outputs": [
    {
     "name": "stdout",
     "output_type": "stream",
     "text": [
      "100\n"
     ]
    }
   ],
   "source": [
    "song = []\n",
    "\n",
    "num_iter = len(top_br.select(\"#title > div > span > a > div\"))\n",
    "\n",
    "for i in range(num_iter):\n",
    "    song.append(top_br.select(\"#title > div > span > a > div\")[i].get_text())\n",
    "    \n",
    "\n",
    "print(len(song))"
   ]
  },
  {
   "cell_type": "code",
   "execution_count": 98,
   "id": "60ca4b14",
   "metadata": {},
   "outputs": [
    {
     "data": {
      "text/html": [
       "<div>\n",
       "<style scoped>\n",
       "    .dataframe tbody tr th:only-of-type {\n",
       "        vertical-align: middle;\n",
       "    }\n",
       "\n",
       "    .dataframe tbody tr th {\n",
       "        vertical-align: top;\n",
       "    }\n",
       "\n",
       "    .dataframe thead th {\n",
       "        text-align: right;\n",
       "    }\n",
       "</style>\n",
       "<table border=\"1\" class=\"dataframe\">\n",
       "  <thead>\n",
       "    <tr style=\"text-align: right;\">\n",
       "      <th></th>\n",
       "      <th>song</th>\n",
       "      <th>artist</th>\n",
       "    </tr>\n",
       "  </thead>\n",
       "  <tbody>\n",
       "    <tr>\n",
       "      <th>0</th>\n",
       "      <td>Batom de Cereja (Ao Vivo)</td>\n",
       "      <td>Israel &amp; Rodolffo</td>\n",
       "    </tr>\n",
       "    <tr>\n",
       "      <th>1</th>\n",
       "      <td>Volta Bebê, Volta Neném</td>\n",
       "      <td>DJ Guuga, , DJ Ivis</td>\n",
       "    </tr>\n",
       "    <tr>\n",
       "      <th>2</th>\n",
       "      <td>Watermelon Sugar</td>\n",
       "      <td>Harry Styles</td>\n",
       "    </tr>\n",
       "    <tr>\n",
       "      <th>3</th>\n",
       "      <td>Facas (Ao Vivo)</td>\n",
       "      <td>Diego &amp; Victor Hugo, , Bruno &amp; Marrone</td>\n",
       "    </tr>\n",
       "    <tr>\n",
       "      <th>4</th>\n",
       "      <td>Girl From Rio</td>\n",
       "      <td>Anitta</td>\n",
       "    </tr>\n",
       "    <tr>\n",
       "      <th>5</th>\n",
       "      <td>Tapa Na Raba</td>\n",
       "      <td>Raí Saia Rodada</td>\n",
       "    </tr>\n",
       "    <tr>\n",
       "      <th>6</th>\n",
       "      <td>Disco Arranhado (Funk Remix)</td>\n",
       "      <td>Malu, , Dj Lucas Beat</td>\n",
       "    </tr>\n",
       "    <tr>\n",
       "      <th>7</th>\n",
       "      <td>Liberdade (Quando o Grave Bate Forte)</td>\n",
       "      <td>Alok, , Mc Don Juan, , DJ Gbr</td>\n",
       "    </tr>\n",
       "    <tr>\n",
       "      <th>8</th>\n",
       "      <td>Ele É Ele, Eu Sou Eu</td>\n",
       "      <td>Wesley Safadão, , Os Barões da Pisadinha</td>\n",
       "    </tr>\n",
       "    <tr>\n",
       "      <th>9</th>\n",
       "      <td>Lance Individual</td>\n",
       "      <td>Jorge &amp; Mateus</td>\n",
       "    </tr>\n",
       "  </tbody>\n",
       "</table>\n",
       "</div>"
      ],
      "text/plain": [
       "                                    song  \\\n",
       "0              Batom de Cereja (Ao Vivo)   \n",
       "1                Volta Bebê, Volta Neném   \n",
       "2                       Watermelon Sugar   \n",
       "3                        Facas (Ao Vivo)   \n",
       "4                          Girl From Rio   \n",
       "5                           Tapa Na Raba   \n",
       "6           Disco Arranhado (Funk Remix)   \n",
       "7  Liberdade (Quando o Grave Bate Forte)   \n",
       "8                   Ele É Ele, Eu Sou Eu   \n",
       "9                       Lance Individual   \n",
       "\n",
       "                                     artist  \n",
       "0                         Israel & Rodolffo  \n",
       "1                       DJ Guuga, , DJ Ivis  \n",
       "2                              Harry Styles  \n",
       "3    Diego & Victor Hugo, , Bruno & Marrone  \n",
       "4                                    Anitta  \n",
       "5                           Raí Saia Rodada  \n",
       "6                     Malu, , Dj Lucas Beat  \n",
       "7             Alok, , Mc Don Juan, , DJ Gbr  \n",
       "8  Wesley Safadão, , Os Barões da Pisadinha  \n",
       "9                            Jorge & Mateus  "
      ]
     },
     "execution_count": 98,
     "metadata": {},
     "output_type": "execute_result"
    }
   ],
   "source": [
    "top_100_brazil = pd.DataFrame({\"song\":song, \"artist\":artist})\n",
    "top_100_brazil.head(10)\n",
    "# need to change some parts"
   ]
  },
  {
   "cell_type": "markdown",
   "id": "66555698",
   "metadata": {},
   "source": [
    "# Top 100 POP Songs 2016"
   ]
  },
  {
   "cell_type": "code",
   "execution_count": 100,
   "id": "8259bee3",
   "metadata": {},
   "outputs": [],
   "source": [
    "url_2016= \"https://playback.fm/charts/top-100-songs/2016\"\n",
    "response = requests.get(url_2016)\n",
    "response.status_code\n",
    "top2016 = BeautifulSoup(response.content, \"html.parser\")"
   ]
  },
  {
   "cell_type": "code",
   "execution_count": 102,
   "id": "1680bde1",
   "metadata": {},
   "outputs": [],
   "source": [
    "#top2016.select(\"span.mobile-only.song\")"
   ]
  },
  {
   "cell_type": "code",
   "execution_count": 103,
   "id": "e15f5641",
   "metadata": {},
   "outputs": [
    {
     "data": {
      "text/plain": [
       "'\\nRihanna\\n'"
      ]
     },
     "execution_count": 103,
     "metadata": {},
     "output_type": "execute_result"
    }
   ],
   "source": [
    "top2016.select(\"a.artist\")[0].get_text()"
   ]
  },
  {
   "cell_type": "code",
   "execution_count": 105,
   "id": "612bf95a",
   "metadata": {},
   "outputs": [
    {
     "name": "stdout",
     "output_type": "stream",
     "text": [
      "100\n",
      "100\n"
     ]
    }
   ],
   "source": [
    "song = []\n",
    "artist = []\n",
    "\n",
    "num_iter = len(top2016.select(\"span.mobile-only.song\"))\n",
    "num_iter2 = len(top2016.select(\"a.artist\"))\n",
    "\n",
    "for i in range(num_iter):\n",
    "    song.append(top2016.select(\"span.mobile-only.song\")[i].get_text())\n",
    "    \n",
    "for i in range(num_iter2):\n",
    "    artist.append(top2016.select(\"a.artist\")[i].get_text())\n",
    "    \n",
    "print(len(song))\n",
    "print(len(artist))"
   ]
  },
  {
   "cell_type": "code",
   "execution_count": 106,
   "id": "2feec5a8",
   "metadata": {},
   "outputs": [
    {
     "data": {
      "text/html": [
       "<div>\n",
       "<style scoped>\n",
       "    .dataframe tbody tr th:only-of-type {\n",
       "        vertical-align: middle;\n",
       "    }\n",
       "\n",
       "    .dataframe tbody tr th {\n",
       "        vertical-align: top;\n",
       "    }\n",
       "\n",
       "    .dataframe thead th {\n",
       "        text-align: right;\n",
       "    }\n",
       "</style>\n",
       "<table border=\"1\" class=\"dataframe\">\n",
       "  <thead>\n",
       "    <tr style=\"text-align: right;\">\n",
       "      <th></th>\n",
       "      <th>song</th>\n",
       "      <th>artist</th>\n",
       "    </tr>\n",
       "  </thead>\n",
       "  <tbody>\n",
       "    <tr>\n",
       "      <th>0</th>\n",
       "      <td>Work</td>\n",
       "      <td>Rihanna</td>\n",
       "    </tr>\n",
       "    <tr>\n",
       "      <th>1</th>\n",
       "      <td>PILLOWTALK</td>\n",
       "      <td>ZAYN</td>\n",
       "    </tr>\n",
       "    <tr>\n",
       "      <th>2</th>\n",
       "      <td>Love Yourself</td>\n",
       "      <td>Justin Bieber</td>\n",
       "    </tr>\n",
       "    <tr>\n",
       "      <th>3</th>\n",
       "      <td>Sorry</td>\n",
       "      <td>Justin Bieber</td>\n",
       "    </tr>\n",
       "    <tr>\n",
       "      <th>4</th>\n",
       "      <td>Me, Myself &amp; I</td>\n",
       "      <td>G-Eazy</td>\n",
       "    </tr>\n",
       "    <tr>\n",
       "      <th>5</th>\n",
       "      <td>Stressed Out</td>\n",
       "      <td>Twenty One Pilots</td>\n",
       "    </tr>\n",
       "    <tr>\n",
       "      <th>6</th>\n",
       "      <td>Faded</td>\n",
       "      <td>Alan Walker</td>\n",
       "    </tr>\n",
       "    <tr>\n",
       "      <th>7</th>\n",
       "      <td>7 Years</td>\n",
       "      <td>Lukas Graham</td>\n",
       "    </tr>\n",
       "    <tr>\n",
       "      <th>8</th>\n",
       "      <td>I Took A Pill In Ibiza - Seeb Remix</td>\n",
       "      <td>Mike Posner</td>\n",
       "    </tr>\n",
       "    <tr>\n",
       "      <th>9</th>\n",
       "      <td>Roses</td>\n",
       "      <td>The Chainsmokers</td>\n",
       "    </tr>\n",
       "  </tbody>\n",
       "</table>\n",
       "</div>"
      ],
      "text/plain": [
       "                                      song               artist\n",
       "0                                   Work               Rihanna \n",
       "1                             PILLOWTALK                  ZAYN \n",
       "2                          Love Yourself         Justin Bieber \n",
       "3                                  Sorry         Justin Bieber \n",
       "4                         Me, Myself & I                G-Eazy \n",
       "5                           Stressed Out     Twenty One Pilots \n",
       "6                                  Faded           Alan Walker \n",
       "7                                7 Years          Lukas Graham \n",
       "8    I Took A Pill In Ibiza - Seeb Remix           Mike Posner \n",
       "9                                  Roses      The Chainsmokers "
      ]
     },
     "execution_count": 106,
     "metadata": {},
     "output_type": "execute_result"
    }
   ],
   "source": [
    "top2016 = pd.DataFrame({\"song\":song, \"artist\":artist})\n",
    "top2016 = top2016.replace(r'\\n',' ', regex=True)\n",
    "top2016.head(10)"
   ]
  },
  {
   "cell_type": "markdown",
   "id": "1ffecbc8",
   "metadata": {},
   "source": [
    "# Lab | API wrappers - Create your collection of songs & audio features"
   ]
  },
  {
   "cell_type": "code",
   "execution_count": 107,
   "id": "bf30f5d8",
   "metadata": {},
   "outputs": [
    {
     "name": "stdout",
     "output_type": "stream",
     "text": [
      "········\n"
     ]
    }
   ],
   "source": [
    "import getpass\n",
    "client_id = getpass.getpass()"
   ]
  },
  {
   "cell_type": "code",
   "execution_count": 108,
   "id": "24750d2f",
   "metadata": {},
   "outputs": [
    {
     "name": "stdout",
     "output_type": "stream",
     "text": [
      "········\n"
     ]
    }
   ],
   "source": [
    "client_secret = getpass.getpass()"
   ]
  },
  {
   "cell_type": "code",
   "execution_count": 111,
   "id": "d9510b1d",
   "metadata": {},
   "outputs": [],
   "source": [
    "from __future__ import print_function    # (at top of module)\n",
    "from spotipy.oauth2 import SpotifyClientCredentials\n",
    "import json\n",
    "import spotipy\n",
    "import sys\n",
    "import requests\n",
    "import spotipy.util as util\n",
    "from random import randint\n",
    "from time import sleep\n",
    "\n",
    "sp = spotipy.Spotify(auth_manager=SpotifyClientCredentials(client_id=client_id,\n",
    "                                                           client_secret=client_secret))"
   ]
  },
  {
   "cell_type": "code",
   "execution_count": 112,
   "id": "dde43a7a",
   "metadata": {},
   "outputs": [],
   "source": [
    "def get_playlist_tracks(playlist_id):\n",
    "    results = sp.user_playlist_tracks(\"spotify\",playlist_id)\n",
    "    tracks = results['items']\n",
    "    while results['next']!=None:\n",
    "        results = sp.next(results)\n",
    "        tracks = tracks + results['items']\n",
    "        sleep(randint(1,3))\n",
    "    return tracks"
   ]
  },
  {
   "cell_type": "code",
   "execution_count": 133,
   "id": "ffba3d41",
   "metadata": {},
   "outputs": [],
   "source": [
    "playlist_creator = \"spotify\"\n",
    "playlist_id = \"4rnleEAOdmFAbRcNCgZMpY\"\n",
    "\n",
    "def analyze_playlist(creator, playlist_id):\n",
    "    \n",
    "    # Create empty dataframe\n",
    "    playlist_features_list = [\"artist\", \"album\", \"track_name\", \"track_id\", \n",
    "                             \"danceability\", \"energy\", \"key\", \"loudness\", \"mode\", \"speechiness\",\n",
    "                             \"instrumentalness\", \"liveness\", \"valence\", \"tempo\", \"duration_ms\", \"time_signature\"]\n",
    "    playlist_df= pd.DataFrame(columns = playlist_features_list)\n",
    "    \n",
    "    # Create empty dict\n",
    "    playlist_features = {}\n",
    "    \n",
    "    # Loop through every track in the playlist, extract features and append the features to the playlist df\n",
    "    playlist = get_playlist_tracks(playlist_id)\n",
    "    for track in playlist:\n",
    "        # Get metadata\n",
    "        playlist_features[\"artist\"] = track[\"track\"][\"album\"][\"artists\"][0][\"name\"]\n",
    "        playlist_features[\"album\"] = track[\"track\"][\"album\"][\"name\"]\n",
    "        playlist_features[\"track_name\"] = track[\"track\"][\"name\"]\n",
    "        playlist_features[\"track_id\"] = track[\"track\"][\"id\"]\n",
    "        # Get audio features\n",
    "        audio_features = sp.audio_features(playlist_features[\"track_id\"])[0]\n",
    "        for feature in playlist_features_list[4:]:\n",
    "            playlist_features[feature] = audio_features[feature]\n",
    "        \n",
    "        # Concat the dfs\n",
    "        track_df = pd.DataFrame(playlist_features, index = [0])\n",
    "        playlist_df = pd.concat([playlist_df, track_df], ignore_index = True)\n",
    "        \n",
    "    return playlist_df"
   ]
  },
  {
   "cell_type": "code",
   "execution_count": 134,
   "id": "1ad9c6c2",
   "metadata": {},
   "outputs": [
    {
     "data": {
      "text/html": [
       "<div>\n",
       "<style scoped>\n",
       "    .dataframe tbody tr th:only-of-type {\n",
       "        vertical-align: middle;\n",
       "    }\n",
       "\n",
       "    .dataframe tbody tr th {\n",
       "        vertical-align: top;\n",
       "    }\n",
       "\n",
       "    .dataframe thead th {\n",
       "        text-align: right;\n",
       "    }\n",
       "</style>\n",
       "<table border=\"1\" class=\"dataframe\">\n",
       "  <thead>\n",
       "    <tr style=\"text-align: right;\">\n",
       "      <th></th>\n",
       "      <th>artist</th>\n",
       "      <th>album</th>\n",
       "      <th>track_name</th>\n",
       "      <th>track_id</th>\n",
       "      <th>danceability</th>\n",
       "      <th>energy</th>\n",
       "      <th>key</th>\n",
       "      <th>loudness</th>\n",
       "      <th>mode</th>\n",
       "      <th>speechiness</th>\n",
       "      <th>instrumentalness</th>\n",
       "      <th>liveness</th>\n",
       "      <th>valence</th>\n",
       "      <th>tempo</th>\n",
       "      <th>duration_ms</th>\n",
       "      <th>time_signature</th>\n",
       "    </tr>\n",
       "  </thead>\n",
       "  <tbody>\n",
       "    <tr>\n",
       "      <th>0</th>\n",
       "      <td>Hozier</td>\n",
       "      <td>Hozier (Deluxe)</td>\n",
       "      <td>Take Me To Church</td>\n",
       "      <td>7dS5EaCoMnN7DzlpT6aRn2</td>\n",
       "      <td>0.566</td>\n",
       "      <td>0.664</td>\n",
       "      <td>4</td>\n",
       "      <td>-5.303</td>\n",
       "      <td>0</td>\n",
       "      <td>0.0464</td>\n",
       "      <td>0</td>\n",
       "      <td>0.116</td>\n",
       "      <td>0.437</td>\n",
       "      <td>128.945</td>\n",
       "      <td>241688</td>\n",
       "      <td>4</td>\n",
       "    </tr>\n",
       "    <tr>\n",
       "      <th>1</th>\n",
       "      <td>Mike Posner</td>\n",
       "      <td>31 Minutes to Takeoff</td>\n",
       "      <td>Cooler Than Me - Single Mix</td>\n",
       "      <td>2V4bv1fNWfTcyRJKmej6Sj</td>\n",
       "      <td>0.768</td>\n",
       "      <td>0.820</td>\n",
       "      <td>7</td>\n",
       "      <td>-4.630</td>\n",
       "      <td>0</td>\n",
       "      <td>0.0474</td>\n",
       "      <td>0</td>\n",
       "      <td>0.689</td>\n",
       "      <td>0.625</td>\n",
       "      <td>129.965</td>\n",
       "      <td>213293</td>\n",
       "      <td>4</td>\n",
       "    </tr>\n",
       "    <tr>\n",
       "      <th>2</th>\n",
       "      <td>Tyler, The Creator</td>\n",
       "      <td>Flower Boy</td>\n",
       "      <td>See You Again (feat. Kali Uchis)</td>\n",
       "      <td>7KA4W4McWYRpgf0fWsJZWB</td>\n",
       "      <td>0.558</td>\n",
       "      <td>0.559</td>\n",
       "      <td>6</td>\n",
       "      <td>-9.222</td>\n",
       "      <td>1</td>\n",
       "      <td>0.0959</td>\n",
       "      <td>0.000007</td>\n",
       "      <td>0.109</td>\n",
       "      <td>0.620</td>\n",
       "      <td>78.558</td>\n",
       "      <td>180387</td>\n",
       "      <td>4</td>\n",
       "    </tr>\n",
       "    <tr>\n",
       "      <th>3</th>\n",
       "      <td>Bastille</td>\n",
       "      <td>Bad Blood</td>\n",
       "      <td>Pompeii</td>\n",
       "      <td>3gbBpTdY8lnQwqxNCcf795</td>\n",
       "      <td>0.679</td>\n",
       "      <td>0.715</td>\n",
       "      <td>9</td>\n",
       "      <td>-6.383</td>\n",
       "      <td>1</td>\n",
       "      <td>0.0407</td>\n",
       "      <td>0</td>\n",
       "      <td>0.271</td>\n",
       "      <td>0.571</td>\n",
       "      <td>127.435</td>\n",
       "      <td>214148</td>\n",
       "      <td>4</td>\n",
       "    </tr>\n",
       "    <tr>\n",
       "      <th>4</th>\n",
       "      <td>Shakira</td>\n",
       "      <td>Oral Fixation, Vol. 2 (Expanded Edition)</td>\n",
       "      <td>Hips Don't Lie (feat. Wyclef Jean)</td>\n",
       "      <td>3ZFTkvIE7kyPt6Nu3PEa7V</td>\n",
       "      <td>0.778</td>\n",
       "      <td>0.824</td>\n",
       "      <td>10</td>\n",
       "      <td>-5.892</td>\n",
       "      <td>0</td>\n",
       "      <td>0.0707</td>\n",
       "      <td>0</td>\n",
       "      <td>0.405</td>\n",
       "      <td>0.758</td>\n",
       "      <td>100.024</td>\n",
       "      <td>218093</td>\n",
       "      <td>4</td>\n",
       "    </tr>\n",
       "    <tr>\n",
       "      <th>...</th>\n",
       "      <td>...</td>\n",
       "      <td>...</td>\n",
       "      <td>...</td>\n",
       "      <td>...</td>\n",
       "      <td>...</td>\n",
       "      <td>...</td>\n",
       "      <td>...</td>\n",
       "      <td>...</td>\n",
       "      <td>...</td>\n",
       "      <td>...</td>\n",
       "      <td>...</td>\n",
       "      <td>...</td>\n",
       "      <td>...</td>\n",
       "      <td>...</td>\n",
       "      <td>...</td>\n",
       "      <td>...</td>\n",
       "    </tr>\n",
       "    <tr>\n",
       "      <th>5290</th>\n",
       "      <td>MARINA</td>\n",
       "      <td>The Family Jewels</td>\n",
       "      <td>Hermit the Frog</td>\n",
       "      <td>4Zcz6saEkOII3PlXd9gN3o</td>\n",
       "      <td>0.609</td>\n",
       "      <td>0.679</td>\n",
       "      <td>0</td>\n",
       "      <td>-4.545</td>\n",
       "      <td>1</td>\n",
       "      <td>0.0312</td>\n",
       "      <td>0</td>\n",
       "      <td>0.199</td>\n",
       "      <td>0.487</td>\n",
       "      <td>122.034</td>\n",
       "      <td>215960</td>\n",
       "      <td>4</td>\n",
       "    </tr>\n",
       "    <tr>\n",
       "      <th>5291</th>\n",
       "      <td>Olivia Rodrigo</td>\n",
       "      <td>deja vu</td>\n",
       "      <td>deja vu</td>\n",
       "      <td>61KpQadow081I2AsbeLcsb</td>\n",
       "      <td>0.439</td>\n",
       "      <td>0.610</td>\n",
       "      <td>9</td>\n",
       "      <td>-7.236</td>\n",
       "      <td>1</td>\n",
       "      <td>0.1160</td>\n",
       "      <td>0.000011</td>\n",
       "      <td>0.341</td>\n",
       "      <td>0.172</td>\n",
       "      <td>181.088</td>\n",
       "      <td>215508</td>\n",
       "      <td>4</td>\n",
       "    </tr>\n",
       "    <tr>\n",
       "      <th>5292</th>\n",
       "      <td>BIA</td>\n",
       "      <td>FOR CERTAIN</td>\n",
       "      <td>WHOLE LOTTA MONEY</td>\n",
       "      <td>5yorXJWdBan1Vlh116ZtQ7</td>\n",
       "      <td>0.897</td>\n",
       "      <td>0.371</td>\n",
       "      <td>1</td>\n",
       "      <td>-5.019</td>\n",
       "      <td>1</td>\n",
       "      <td>0.3680</td>\n",
       "      <td>0</td>\n",
       "      <td>0.325</td>\n",
       "      <td>0.441</td>\n",
       "      <td>81.008</td>\n",
       "      <td>156005</td>\n",
       "      <td>4</td>\n",
       "    </tr>\n",
       "    <tr>\n",
       "      <th>5293</th>\n",
       "      <td>Ashnikko</td>\n",
       "      <td>DEMIDEVIL</td>\n",
       "      <td>Slumber Party (feat. Princess Nokia)</td>\n",
       "      <td>11ZulcYY4lowvcQm4oe3VJ</td>\n",
       "      <td>0.964</td>\n",
       "      <td>0.398</td>\n",
       "      <td>11</td>\n",
       "      <td>-8.981</td>\n",
       "      <td>0</td>\n",
       "      <td>0.0795</td>\n",
       "      <td>0.000039</td>\n",
       "      <td>0.101</td>\n",
       "      <td>0.563</td>\n",
       "      <td>105.012</td>\n",
       "      <td>178405</td>\n",
       "      <td>4</td>\n",
       "    </tr>\n",
       "    <tr>\n",
       "      <th>5294</th>\n",
       "      <td>Kali Uchis</td>\n",
       "      <td>Sin Miedo (del Amor y Otros Demonios) ∞</td>\n",
       "      <td>telepatía</td>\n",
       "      <td>6tDDoYIxWvMLTdKpjFkc1B</td>\n",
       "      <td>0.653</td>\n",
       "      <td>0.524</td>\n",
       "      <td>11</td>\n",
       "      <td>-9.016</td>\n",
       "      <td>0</td>\n",
       "      <td>0.0502</td>\n",
       "      <td>0</td>\n",
       "      <td>0.203</td>\n",
       "      <td>0.553</td>\n",
       "      <td>83.970</td>\n",
       "      <td>160191</td>\n",
       "      <td>4</td>\n",
       "    </tr>\n",
       "  </tbody>\n",
       "</table>\n",
       "<p>5295 rows × 16 columns</p>\n",
       "</div>"
      ],
      "text/plain": [
       "                  artist                                     album  \\\n",
       "0                 Hozier                           Hozier (Deluxe)   \n",
       "1            Mike Posner                     31 Minutes to Takeoff   \n",
       "2     Tyler, The Creator                                Flower Boy   \n",
       "3               Bastille                                 Bad Blood   \n",
       "4                Shakira  Oral Fixation, Vol. 2 (Expanded Edition)   \n",
       "...                  ...                                       ...   \n",
       "5290              MARINA                         The Family Jewels   \n",
       "5291      Olivia Rodrigo                                   deja vu   \n",
       "5292                 BIA                               FOR CERTAIN   \n",
       "5293            Ashnikko                                 DEMIDEVIL   \n",
       "5294          Kali Uchis   Sin Miedo (del Amor y Otros Demonios) ∞   \n",
       "\n",
       "                                track_name                track_id  \\\n",
       "0                        Take Me To Church  7dS5EaCoMnN7DzlpT6aRn2   \n",
       "1              Cooler Than Me - Single Mix  2V4bv1fNWfTcyRJKmej6Sj   \n",
       "2         See You Again (feat. Kali Uchis)  7KA4W4McWYRpgf0fWsJZWB   \n",
       "3                                  Pompeii  3gbBpTdY8lnQwqxNCcf795   \n",
       "4       Hips Don't Lie (feat. Wyclef Jean)  3ZFTkvIE7kyPt6Nu3PEa7V   \n",
       "...                                    ...                     ...   \n",
       "5290                       Hermit the Frog  4Zcz6saEkOII3PlXd9gN3o   \n",
       "5291                               deja vu  61KpQadow081I2AsbeLcsb   \n",
       "5292                     WHOLE LOTTA MONEY  5yorXJWdBan1Vlh116ZtQ7   \n",
       "5293  Slumber Party (feat. Princess Nokia)  11ZulcYY4lowvcQm4oe3VJ   \n",
       "5294                             telepatía  6tDDoYIxWvMLTdKpjFkc1B   \n",
       "\n",
       "      danceability  energy key  loudness mode  speechiness instrumentalness  \\\n",
       "0            0.566   0.664   4    -5.303    0       0.0464                0   \n",
       "1            0.768   0.820   7    -4.630    0       0.0474                0   \n",
       "2            0.558   0.559   6    -9.222    1       0.0959         0.000007   \n",
       "3            0.679   0.715   9    -6.383    1       0.0407                0   \n",
       "4            0.778   0.824  10    -5.892    0       0.0707                0   \n",
       "...            ...     ...  ..       ...  ...          ...              ...   \n",
       "5290         0.609   0.679   0    -4.545    1       0.0312                0   \n",
       "5291         0.439   0.610   9    -7.236    1       0.1160         0.000011   \n",
       "5292         0.897   0.371   1    -5.019    1       0.3680                0   \n",
       "5293         0.964   0.398  11    -8.981    0       0.0795         0.000039   \n",
       "5294         0.653   0.524  11    -9.016    0       0.0502                0   \n",
       "\n",
       "      liveness  valence    tempo duration_ms time_signature  \n",
       "0        0.116    0.437  128.945      241688              4  \n",
       "1        0.689    0.625  129.965      213293              4  \n",
       "2        0.109    0.620   78.558      180387              4  \n",
       "3        0.271    0.571  127.435      214148              4  \n",
       "4        0.405    0.758  100.024      218093              4  \n",
       "...        ...      ...      ...         ...            ...  \n",
       "5290     0.199    0.487  122.034      215960              4  \n",
       "5291     0.341    0.172  181.088      215508              4  \n",
       "5292     0.325    0.441   81.008      156005              4  \n",
       "5293     0.101    0.563  105.012      178405              4  \n",
       "5294     0.203    0.553   83.970      160191              4  \n",
       "\n",
       "[5295 rows x 16 columns]"
      ]
     },
     "execution_count": 134,
     "metadata": {},
     "output_type": "execute_result"
    }
   ],
   "source": [
    "playlist_ = analyze_playlist(playlist_creator, playlist_id)\n",
    "playlist_"
   ]
  },
  {
   "cell_type": "markdown",
   "id": "ea0a13a2",
   "metadata": {},
   "source": [
    "Put More Playlist on to analyze more than one Playlist"
   ]
  },
  {
   "cell_type": "code",
   "execution_count": 139,
   "id": "bbd449fd",
   "metadata": {},
   "outputs": [],
   "source": [
    "playlist_dict = {\n",
    "    \"child\" : (\"Filtr Brasil\", \"3kZbITMMoLkMHy9iTKmo6F\"), \n",
    "    \"bruno_mars\" : (\"Bruno Mars\", \"1B9BPUMWDtl4ASyG4f693s\"),\n",
    "    \"gentle_rains\" : (\"spotify\", \"37i9dQZF1DX2mFmJUZg4Mp\"),\n",
    "    \"top_2018\" : (\"spotify\", \"37i9dQZF1Ejm8uEJhzGB5L\"),\n",
    "    \"top_2019\" : (\"spotify\", \"37i9dQZF1EtfxXkb71jvxH\"),\n",
    "    \"lado_b\" : (\"spotify\", \"37i9dQZF1EiXiI80uVsnS8\"),\n",
    "    \"love_paris\" : (\"spotify\", \"37i9dQZF1DX5SrscLLafXx\"),\n",
    "    \"meu_passado\" : (\"spotify\", \"0uPVgADUQyQzfNab7bjCv5\"),\n",
    "    \"mpb\" : (\"tainanolveira\", \"2MORcyRdKV1UNYaVpV6MkN\"),\n",
    "    \"bed\" : (\"spotify\", \"37i9dQZF1DXa4ss91ghMY4\"),\n",
    "    \"rock\" : (\"spotify\", \"37i9dQZF1DXcmaoFmN75bi\")\n",
    "}"
   ]
  },
  {
   "cell_type": "code",
   "execution_count": 142,
   "id": "e3d37487",
   "metadata": {},
   "outputs": [],
   "source": [
    "def analyze_playlist_dict(playlist_dict):\n",
    "    \n",
    "    # Loop through every playlist in the dict and analyze it\n",
    "    for i, (key, val) in enumerate(playlist_dict.items()):\n",
    "        playlist_df = analyze_playlist(*val)\n",
    "        # Add a playlist column so that we can see which playlist a track belongs too\n",
    "        playlist_df[\"playlist\"] = key\n",
    "        # Create or concat df\n",
    "        if i == 0:\n",
    "            playlist_dict_df = playlist_df\n",
    "        else:\n",
    "            playlist_dict_df = pd.concat([playlist_dict_df, playlist_df], ignore_index = True)\n",
    "            \n",
    "    return playlist_dict_df"
   ]
  },
  {
   "cell_type": "code",
   "execution_count": 144,
   "id": "f0f66efa",
   "metadata": {},
   "outputs": [],
   "source": [
    "#multiple_playlist_df = analyze_playlist_dict(playlist_dict)"
   ]
  },
  {
   "cell_type": "code",
   "execution_count": null,
   "id": "345b36e6",
   "metadata": {},
   "outputs": [],
   "source": [
    "multiple_playlist_df.head()"
   ]
  }
 ],
 "metadata": {
  "kernelspec": {
   "display_name": "Python 3",
   "language": "python",
   "name": "python3"
  },
  "language_info": {
   "codemirror_mode": {
    "name": "ipython",
    "version": 3
   },
   "file_extension": ".py",
   "mimetype": "text/x-python",
   "name": "python",
   "nbconvert_exporter": "python",
   "pygments_lexer": "ipython3",
   "version": "3.9.6"
  }
 },
 "nbformat": 4,
 "nbformat_minor": 5
}
